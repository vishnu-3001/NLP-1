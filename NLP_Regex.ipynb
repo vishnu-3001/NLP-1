{
  "cells": [
    {
      "cell_type": "code",
      "execution_count": 4,
      "metadata": {
        "id": "yKyWK46JGHF_"
      },
      "outputs": [],
      "source": [
        "import re\n",
        "import warnings\n",
        "warnings.filterwarnings(\"ignore\")"
      ]
    },
    {
      "cell_type": "code",
      "execution_count": 11,
      "metadata": {},
      "outputs": [],
      "source": [
        "chat1 = 'codebasics: you ask lot of questions 😠  1235678912, abc@xyz.com'\n",
        "chat2 = 'codebasics: here it is: (123)-567-8912, abc_def@xyz.com'\n",
        "chat3 = 'codebasics: yes, phone: 1235678912 email: abc@xyz.com'"
      ]
    },
    {
      "cell_type": "code",
      "execution_count": 8,
      "metadata": {},
      "outputs": [
        {
          "data": {
            "text/plain": [
              "[('', '(123)-567-8912')]"
            ]
          },
          "execution_count": 8,
          "metadata": {},
          "output_type": "execute_result"
        }
      ],
      "source": [
        "mobile_pattern='(\\d{10})|(\\(\\d{3}\\)-\\d{3}-\\d{4})'\n",
        "matches=re.findall(mobile_pattern,chat2)\n",
        "matches"
      ]
    },
    {
      "cell_type": "code",
      "execution_count": 13,
      "metadata": {},
      "outputs": [
        {
          "data": {
            "text/plain": [
              "['abc_def@xyz.com']"
            ]
          },
          "execution_count": 13,
          "metadata": {},
          "output_type": "execute_result"
        }
      ],
      "source": [
        "email_pattern='[a-zA-Z0-9_]+@[a-zA-Z]+\\.[a-zA-Z]+'\n",
        "matches=re.findall(email_pattern,chat2)\n",
        "matches"
      ]
    },
    {
      "cell_type": "code",
      "execution_count": 15,
      "metadata": {},
      "outputs": [
        {
          "data": {
            "text/plain": [
              "['412889912']"
            ]
          },
          "execution_count": 15,
          "metadata": {},
          "output_type": "execute_result"
        }
      ],
      "source": [
        "chat1='codebasics: Hello, I am having an issue with my order # 412889912'\n",
        "order_pattern='order[^\\d]*(\\d*)'\n",
        "matches=re.findall(order_pattern,chat1)\n",
        "matches"
      ]
    },
    {
      "cell_type": "code",
      "execution_count": 16,
      "metadata": {},
      "outputs": [],
      "source": [
        "text='''\n",
        "Born\tElon Reeve Musk\n",
        "June 28, 1971 (age 50)\n",
        "Pretoria, Transvaal, South Africa\n",
        "Citizenship\t\n",
        "South Africa (1971–present)\n",
        "Canada (1971–present)\n",
        "United States (2002–present)\n",
        "Education\tUniversity of Pennsylvania (BS, BA)\n",
        "Title\t\n",
        "Founder, CEO and Chief Engineer of SpaceX\n",
        "CEO and product architect of Tesla, Inc.\n",
        "Founder of The Boring Company and X.com (now part of PayPal)\n",
        "Co-founder of Neuralink, OpenAI, and Zip2\n",
        "Spouse(s)\t\n",
        "Justine Wilson\n",
        "​\n",
        "​(m. 2000; div. 2008)​\n",
        "Talulah Riley\n",
        "​\n",
        "​(m. 2010; div. 2012)​\n",
        "​\n",
        "​(m. 2013; div. 2016)\n",
        "'''"
      ]
    },
    {
      "cell_type": "code",
      "execution_count": 21,
      "metadata": {},
      "outputs": [
        {
          "name": "stdout",
          "output_type": "stream",
          "text": [
            "['50']\n",
            "Elon Reeve Musk\n"
          ]
        }
      ],
      "source": [
        "age_pattern='age (\\d{2})'\n",
        "name_pattern='Born(.*)'\n",
        "matches=re.findall(age_pattern,text)\n",
        "name_matches=re.findall(name_pattern,text)\n",
        "print(matches)\n",
        "print(name_matches[0].strip())"
      ]
    }
  ],
  "metadata": {
    "colab": {
      "provenance": []
    },
    "kernelspec": {
      "display_name": "Python 3",
      "name": "python3"
    },
    "language_info": {
      "codemirror_mode": {
        "name": "ipython",
        "version": 3
      },
      "file_extension": ".py",
      "mimetype": "text/x-python",
      "name": "python",
      "nbconvert_exporter": "python",
      "pygments_lexer": "ipython3",
      "version": "3.13.1"
    }
  },
  "nbformat": 4,
  "nbformat_minor": 0
}
